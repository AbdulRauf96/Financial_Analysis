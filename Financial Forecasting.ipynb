{
 "cells": [
  {
   "cell_type": "markdown",
   "metadata": {},
   "source": [
    "# Financial Forecasting Using Python\n",
    "\n",
    "In this notebook we will be analyzing financial statements using Python. We will be using the following libraries:\n",
    "\n",
    "1. Pandas\n",
    "2. Numpy\n",
    "3. Matplotlib\n",
    "4. Seaborn"
   ]
  },
  {
   "cell_type": "code",
   "execution_count": 10,
   "metadata": {},
   "outputs": [],
   "source": [
    "import numpy as np\n",
    "import matplotlib.pyplot as plt\n",
    "import seaborn as sns\n",
    "sns.set_style('whitegrid')\n",
    "%matplotlib inline"
   ]
  },
  {
   "cell_type": "markdown",
   "metadata": {},
   "source": [
    "This is a basic package I wrote to download datasets and initialize noteboooks."
   ]
  },
  {
   "cell_type": "code",
   "execution_count": 11,
   "metadata": {},
   "outputs": [],
   "source": [
    "import basic.basic_functions as bf #custom functions library"
   ]
  },
  {
   "cell_type": "code",
   "execution_count": 12,
   "metadata": {},
   "outputs": [
    {
     "name": "stdout",
     "output_type": "stream",
     "text": [
      "Not Running on Colab and no project specified\n",
      "Base Folder is C:\\Users\\abdul\\OneDrive\\Documents\\MSBA\n",
      "Data Folder is C:\\Users\\abdul\\OneDrive\\Documents\\MSBA\\data_sets\n",
      "Archive Folder is C:\\Users\\abdul\\OneDrive\\Documents\\MSBA\\archive\n",
      "Output Folder is C:\\Users\\abdul\\OneDrive\\Documents\\MSBA\\output\n",
      "The path to the custom functions is C:/Users/abdul/OneDrive/Documents/MSBA/custom_functions\n",
      "The working directory is c:\\Users\\abdul\\OneDrive\\Documents\\MSBA\\notebooks\\Financial_analysis\n"
     ]
    }
   ],
   "source": [
    "base_folder, data, archive, output = bf.set_folders()"
   ]
  },
  {
   "cell_type": "markdown",
   "metadata": {},
   "source": [
    "I'll use the download function in the basic package to download datesets"
   ]
  },
  {
   "cell_type": "code",
   "execution_count": 13,
   "metadata": {},
   "outputs": [],
   "source": [
    "# bf.download_file('https://assets.datacamp.com/production/repositories/1882/datasets/c87f9f462d0a8e04b1595ac86b2fa2fbfde75737/TSLA-Income-Statement.csv', data/'TSLA-Income-Statement.csv')\n",
    "# bf.download_file('https://assets.datacamp.com/production/repositories/1882/datasets/21336aacbe41c511358594c5baead41b7673f89b/Netflix.csv', data/'Netflix.csv')\n",
    "# bf.download_file('https://assets.datacamp.com/production/repositories/1882/datasets/9f3f116318e2471b55d9f0a6c5c709d4cbfb94b7/F-Balance-Sheet.csv', data/'F-Balance-Sheet.csv')"
   ]
  },
  {
   "cell_type": "code",
   "execution_count": 14,
   "metadata": {},
   "outputs": [
    {
     "name": "stdout",
     "output_type": "stream",
     "text": [
      "Gross profit is 30000.0\n",
      "Gross profit margin is 37.5%\n"
     ]
    }
   ],
   "source": [
    "sales = float(input('Enter the sales: ')) # for this example sales will be 8000\n",
    "cogs = float(input('Enter the cost of goods sold: ')) # for this example cogs will be 5400\n",
    "gross_profit = sales - cogs\n",
    "print(f'Gross profit is {gross_profit}')\n",
    "print(f'Gross profit margin is {(gross_profit/sales)*100}%')"
   ]
  },
  {
   "cell_type": "code",
   "execution_count": 15,
   "metadata": {},
   "outputs": [
    {
     "name": "stdout",
     "output_type": "stream",
     "text": [
      "Net profit is 28490.0\n"
     ]
    }
   ],
   "source": [
    "opex = [700, 250, 130, 280, 150]\n",
    "\n",
    "net_profit = gross_profit - sum(opex)\n",
    "print(f'Net profit is {net_profit}')"
   ]
  },
  {
   "cell_type": "code",
   "execution_count": 16,
   "metadata": {},
   "outputs": [
    {
     "name": "stdout",
     "output_type": "stream",
     "text": [
      "Next month's forecast sales figure is 3800.00 USD.\n"
     ]
    }
   ],
   "source": [
    "# Set variables units sold and sales price of the T-shirts (basic and custom)\n",
    "salesprice_basic = 15\n",
    "salesprice_custom = 25\n",
    "forecast_units = 200\n",
    "\n",
    "# Calculate the combined sales price taking into account the sales mix\n",
    "average_sales_price = (salesprice_basic * 0.6) + (salesprice_custom * 0.4)\n",
    "\n",
    "# Calculate the total sales for next month\n",
    "sales_USD = average_sales_price * forecast_units\n",
    "\n",
    "# Print the total sales\n",
    "print(\"Next month's forecast sales figure is {:.2f} USD.\".format(sales_USD))"
   ]
  }
 ],
 "metadata": {
  "kernelspec": {
   "display_name": "base",
   "language": "python",
   "name": "python3"
  },
  "language_info": {
   "codemirror_mode": {
    "name": "ipython",
    "version": 3
   },
   "file_extension": ".py",
   "mimetype": "text/x-python",
   "name": "python",
   "nbconvert_exporter": "python",
   "pygments_lexer": "ipython3",
   "version": "3.11.7"
  }
 },
 "nbformat": 4,
 "nbformat_minor": 2
}
